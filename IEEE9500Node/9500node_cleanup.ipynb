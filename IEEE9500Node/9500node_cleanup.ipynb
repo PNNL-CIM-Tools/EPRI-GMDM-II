{
 "cells": [
  {
   "cell_type": "code",
   "execution_count": 1,
   "id": "50ab8728",
   "metadata": {},
   "outputs": [],
   "source": [
    "import os\n",
    "os.environ['CIMG_CIM_PROFILE'] = 'cim18gmdm'\n",
    "os.environ['CIMG_VALIDATION_LOG_LEVEL'] = 'INFO'\n",
    "import cimgraph.data_profile.cim18gmdm as cim\n",
    "from cimgraph import utils\n",
    "from mermaid import Mermaid"
   ]
  },
  {
   "cell_type": "code",
   "execution_count": null,
   "id": "79631bd8",
   "metadata": {},
   "outputs": [],
   "source": []
  },
  {
   "cell_type": "code",
   "execution_count": null,
   "id": "0da41d81",
   "metadata": {},
   "outputs": [],
   "source": [
    "# Manual Replace:\n",
    "# TransformerEndInfo.ratedU -> ConductingAssetInfo.ratedVoltage\n",
    "# Delete TapChanger.normalStep\n"
   ]
  },
  {
   "cell_type": "code",
   "execution_count": null,
   "id": "b9b96a09",
   "metadata": {},
   "outputs": [],
   "source": [
    "from cimgraph.databases import XMLFile\n",
    "from cimgraph.models import FeederModel\n",
    "\n",
    "file = XMLFile(filename='final9500node_CIM100x.XML')\n",
    "\n",
    "network = FeederModel(container=cim.Feeder(), connection=file)"
   ]
  },
  {
   "cell_type": "code",
   "execution_count": null,
   "id": "dadd2538",
   "metadata": {},
   "outputs": [],
   "source": [
    "limit_types = [cim.OperationalLimit, cim.OperationalLimitSet, cim.CurrentLimit, cim.VoltageLimit, cim.OperationalLimitType]\n",
    "for limit_type in limit_types:\n",
    "    for obj in network.list_by_class(limit_type):\n",
    "        network.delete(obj)\n",
    "        \n",
    "for node in network.list_by_class(cim.ConnectivityNode):\n",
    "    node.OperationalLimitSet = None\n",
    "    \n",
    "for terminal in network.list_by_class(cim.Terminal):\n",
    "    terminal.OperationalLimitSet = None"
   ]
  },
  {
   "cell_type": "code",
   "execution_count": null,
   "id": "a49c9d5c",
   "metadata": {},
   "outputs": [],
   "source": [
    "for topo in network.list_by_class(cim.TopologicalNode):\n",
    "    network.delete(topo)\n",
    "    \n",
    "for node in network.list_by_class(cim.ConnectivityNode):\n",
    "    node.TopologicalNode = None\n",
    "    node.ConnectivityNodeContainer = None\n",
    "    \n",
    "for topo in network.list_by_class(cim.TopologicalIsland):\n",
    "    network.delete(topo)"
   ]
  },
  {
   "cell_type": "code",
   "execution_count": null,
   "id": "f944e5c7",
   "metadata": {},
   "outputs": [],
   "source": [
    "Sectionalizers = ['TSW320328_SW','TSW568613_SW','LN0621886_SW','A333_48332_SW','A8645_48332_SW',\n",
    "                  'WF586_48332_SW','TSW803273_SW','WF856_48332_SW','WG127_48332_SW','LN4625713_SW',\n",
    "                  'TSW10891089_SW','LN05534967_SW','WD701_48332_SW', 'A8869_48332_SW']\n",
    "\n",
    "Disconnecters = ['DG1069MT1_sw', 'DG1089DIES_sw', 'DG1089LNG_sw','DG1142LNG_sw','DG1209DIES_sw']\n",
    "\n",
    "Breakers = ['Line.HVMV115B1_sw', 'HVMV69S1B1_sw', 'HVMV69S1B2_sw', 'HVMV69S1B3_sw', 'HVMV69S1B4_sw',\n",
    "            'HVMV69S2B1_sw', 'HVMV69S2B2_sw', 'HVMV69S2B3_sw', 'HVMV69S3B1_sw', 'HVMV69S3B2_sw']"
   ]
  },
  {
   "cell_type": "code",
   "execution_count": null,
   "id": "1f3b5b2c",
   "metadata": {},
   "outputs": [],
   "source": [
    "def switch_replacer(switch_name, new_class: cim.Switch):\n",
    "    old_sw = network.find_by_attribute(cim.LoadBreakSwitch, 'name', switch_name)[0]\n",
    "    new_sw = new_class(identifier=old_sw.identifier)\n",
    "     "
   ]
  },
  {
   "cell_type": "code",
   "execution_count": null,
   "id": "3ed8993e",
   "metadata": {},
   "outputs": [],
   "source": [
    "utils.write_xml(network = network, filename='9500_no_limits.xml', \n",
    "                namespaces={'cim': 'http://iec.ch/TC57/CIM101#',\n",
    "                            'gmdm': 'http://epri.com/gmdm#',\n",
    "                            'eu': 'http://iec.ch/TC57/CIM100-European#',\n",
    "                            'nc': 'http://entsoe.eu/ns/nc#',\n",
    "                            'gb': 'http://GB/placeholder/ext#',\n",
    "                            'rdf': 'http://www.w3.org/1999/02/22-rdf-syntax-ns#'})"
   ]
  },
  {
   "cell_type": "code",
   "execution_count": null,
   "id": "aefd88e6",
   "metadata": {},
   "outputs": [],
   "source": [
    "os.environ['CIMG_VALIDATION_LOG_LEVEL'] = 'WARNING'\n",
    "\n",
    "file = XMLFile(filename='./CIM18GMDM/gmdm_9500_node_v0.xml',\n",
    "               namespaces={'cim': 'http://iec.ch/TC57/CIM101#',\n",
    "                            'gmdm': 'http://epri.com/gmdm#',\n",
    "                            'rdf': 'http://www.w3.org/1999/02/22-rdf-syntax-ns#'})\n",
    "network = FeederModel(container=cim.Feeder(), connection=file)\n"
   ]
  },
  {
   "cell_type": "code",
   "execution_count": null,
   "id": "cb5cdefa",
   "metadata": {},
   "outputs": [],
   "source": [
    "utils.write_xml(network = network, filename='./CIM18GMDM/gmdm_9500_node_v0.xml', \n",
    "                namespaces={'cim': 'http://iec.ch/TC57/CIM101#',\n",
    "                            'gmdm': 'http://epri.com/gmdm#',\n",
    "                            'rdf': 'http://www.w3.org/1999/02/22-rdf-syntax-ns#'})"
   ]
  },
  {
   "cell_type": "code",
   "execution_count": null,
   "id": "05a067b0",
   "metadata": {},
   "outputs": [],
   "source": [
    "inverter = network.next(cim.PowerElectronicsConnection)\n",
    "inverter.pprint()"
   ]
  },
  {
   "cell_type": "code",
   "execution_count": null,
   "id": "3742e158",
   "metadata": {},
   "outputs": [],
   "source": [
    "deleted = 0\n",
    "for location in network.list_by_class(cim.Location):\n",
    "    is_switch = False\n",
    "    for psr in location.PowerSystemResources:\n",
    "        if isinstance(psr, cim.Switch):\n",
    "            is_switch = True\n",
    "    if not is_switch:\n",
    "        psr.Location = None\n",
    "        for point in location.PositionPoints:\n",
    "            network.delete(point)\n",
    "        network.delete(location)\n",
    "        deleted +=1\n",
    "print(f'{deleted} Location objects deleted from model')"
   ]
  },
  {
   "cell_type": "code",
   "execution_count": null,
   "id": "a3dbe119",
   "metadata": {},
   "outputs": [],
   "source": [
    "utils.write_xml(network, '9500_no_loc.xml')"
   ]
  },
  {
   "cell_type": "code",
   "execution_count": null,
   "id": "b39d3a51",
   "metadata": {},
   "outputs": [],
   "source": [
    "# os.environ['CIMG_CIM_PROFILE'] = 'cim17v40'\n",
    "# os.environ['CIMG_VALIDATION_LOG_LEVEL'] = 'warning'\n",
    "# import cimgraph.data_profile.cim17v40 as cim\n",
    "\n",
    "# file = XMLFile(filename='9500_no_limits.xml')\n",
    "# network = FeederModel(container=cim.Feeder(), connection=file)"
   ]
  },
  {
   "cell_type": "code",
   "execution_count": null,
   "id": "fbc93733",
   "metadata": {},
   "outputs": [],
   "source": []
  }
 ],
 "metadata": {
  "kernelspec": {
   "display_name": "epri-gmdm-ii-py3.10",
   "language": "python",
   "name": "python3"
  },
  "language_info": {
   "codemirror_mode": {
    "name": "ipython",
    "version": 3
   },
   "file_extension": ".py",
   "mimetype": "text/x-python",
   "name": "python",
   "nbconvert_exporter": "python",
   "pygments_lexer": "ipython3",
   "version": "3.10.12"
  }
 },
 "nbformat": 4,
 "nbformat_minor": 5
}
